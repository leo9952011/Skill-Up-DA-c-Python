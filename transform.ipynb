{
 "cells": [
  {
   "cell_type": "markdown",
   "metadata": {},
   "source": [
    "Una funcion que devuelva un txt para cada una de las siguientes universidades con los datos normalizados:\n",
    "- Universidad De Buenos Aires\n",
    "- Universidad De Cine\n",
    "\n",
    "Datos Finales:\n",
    "- university: str minúsculas, sin espacios extras, ni guiones\n",
    "- career: str minúsculas, sin espacios extras, ni guiones\n",
    "- inscription_date: str %Y-%m-%d format ---\n",
    "- first_name: str minúscula y sin espacios, ni guiones\n",
    "- last_name: str minúscula y sin espacios, ni guiones\n",
    "- gender: str choice(male, female) ---\n",
    "- age: int ---\n",
    "- postal_code: str ---\n",
    "- location: str minúscula sin espacios extras, ni guiones\n",
    "- email: str minúsculas, sin espacios extras, ni guiones ---\n",
    "\n",
    "Aclaraciones:\n",
    "Para calcular codigo postal o locación se va a utilizar el .csv que se encuentra en el repo.\n",
    "La edad se debe calcular en todos los casos, resolver con criterio propio las fechas de nacimiento que no considere lógicas para inscribirse en la universidad. Resolver en caso de que suceda la transformación de dos dígitos del año.\n",
    "En el caso de no contar con los datos de first_name y last_name por separado, colocar todo en last_name.\n",
    " \n"
   ]
  },
  {
   "cell_type": "code",
   "execution_count": 6,
   "metadata": {},
   "outputs": [],
   "source": [
    "# importacones\n",
    "import datetime\n",
    "from pathlib import Path\n",
    "import pandas as pd"
   ]
  },
  {
   "cell_type": "code",
   "execution_count": 66,
   "metadata": {},
   "outputs": [
    {
     "name": "stdout",
     "output_type": "stream",
     "text": [
      "44    1670\n",
      "Name: codigo_postal, dtype: int64\n"
     ]
    },
    {
     "ename": "KeyError",
     "evalue": "'postal_code'",
     "output_type": "error",
     "traceback": [
      "\u001b[0;31m---------------------------------------------------------------------------\u001b[0m",
      "\u001b[0;31mKeyError\u001b[0m                                  Traceback (most recent call last)",
      "File \u001b[0;32m~/.local/lib/python3.8/site-packages/pandas/core/indexes/base.py:3803\u001b[0m, in \u001b[0;36mIndex.get_loc\u001b[0;34m(self, key, method, tolerance)\u001b[0m\n\u001b[1;32m   3802\u001b[0m \u001b[39mtry\u001b[39;00m:\n\u001b[0;32m-> 3803\u001b[0m     \u001b[39mreturn\u001b[39;00m \u001b[39mself\u001b[39;49m\u001b[39m.\u001b[39;49m_engine\u001b[39m.\u001b[39;49mget_loc(casted_key)\n\u001b[1;32m   3804\u001b[0m \u001b[39mexcept\u001b[39;00m \u001b[39mKeyError\u001b[39;00m \u001b[39mas\u001b[39;00m err:\n",
      "File \u001b[0;32m~/.local/lib/python3.8/site-packages/pandas/_libs/index.pyx:138\u001b[0m, in \u001b[0;36mpandas._libs.index.IndexEngine.get_loc\u001b[0;34m()\u001b[0m\n",
      "File \u001b[0;32m~/.local/lib/python3.8/site-packages/pandas/_libs/index.pyx:165\u001b[0m, in \u001b[0;36mpandas._libs.index.IndexEngine.get_loc\u001b[0;34m()\u001b[0m\n",
      "File \u001b[0;32mpandas/_libs/hashtable_class_helper.pxi:5745\u001b[0m, in \u001b[0;36mpandas._libs.hashtable.PyObjectHashTable.get_item\u001b[0;34m()\u001b[0m\n",
      "File \u001b[0;32mpandas/_libs/hashtable_class_helper.pxi:5753\u001b[0m, in \u001b[0;36mpandas._libs.hashtable.PyObjectHashTable.get_item\u001b[0;34m()\u001b[0m\n",
      "\u001b[0;31mKeyError\u001b[0m: 'postal_code'",
      "\nThe above exception was the direct cause of the following exception:\n",
      "\u001b[0;31mKeyError\u001b[0m                                  Traceback (most recent call last)",
      "Cell \u001b[0;32mIn [66], line 30\u001b[0m\n\u001b[1;32m     26\u001b[0m cp_df\u001b[39m.\u001b[39mlocalidad \u001b[39m=\u001b[39m cp_df\u001b[39m.\u001b[39mlocalidad\u001b[39m.\u001b[39mastype(\u001b[39m'\u001b[39m\u001b[39mstring\u001b[39m\u001b[39m'\u001b[39m)\u001b[39m.\u001b[39mstr\u001b[39m.\u001b[39mlower()\n\u001b[1;32m     28\u001b[0m \u001b[39mprint\u001b[39m(cp_df[cp_df\u001b[39m.\u001b[39mlocalidad \u001b[39m==\u001b[39m \u001b[39m\"\u001b[39m\u001b[39mnordelta\u001b[39m\u001b[39m\"\u001b[39m][\u001b[39m'\u001b[39m\u001b[39mcodigo_postal\u001b[39m\u001b[39m'\u001b[39m])\n\u001b[0;32m---> 30\u001b[0m cp_df[\u001b[39m'\u001b[39;49m\u001b[39mpostal_code\u001b[39;49m\u001b[39m'\u001b[39;49m]\u001b[39m.\u001b[39mmap(cp_df[cp_df\u001b[39m.\u001b[39mlocalidad \u001b[39m==\u001b[39m cp_df[\u001b[39m'\u001b[39m\u001b[39mlocation\u001b[39m\u001b[39m'\u001b[39m]][\u001b[39m'\u001b[39m\u001b[39mcodigo_postal\u001b[39m\u001b[39m'\u001b[39m])\n",
      "File \u001b[0;32m~/.local/lib/python3.8/site-packages/pandas/core/frame.py:3804\u001b[0m, in \u001b[0;36mDataFrame.__getitem__\u001b[0;34m(self, key)\u001b[0m\n\u001b[1;32m   3802\u001b[0m \u001b[39mif\u001b[39;00m \u001b[39mself\u001b[39m\u001b[39m.\u001b[39mcolumns\u001b[39m.\u001b[39mnlevels \u001b[39m>\u001b[39m \u001b[39m1\u001b[39m:\n\u001b[1;32m   3803\u001b[0m     \u001b[39mreturn\u001b[39;00m \u001b[39mself\u001b[39m\u001b[39m.\u001b[39m_getitem_multilevel(key)\n\u001b[0;32m-> 3804\u001b[0m indexer \u001b[39m=\u001b[39m \u001b[39mself\u001b[39;49m\u001b[39m.\u001b[39;49mcolumns\u001b[39m.\u001b[39;49mget_loc(key)\n\u001b[1;32m   3805\u001b[0m \u001b[39mif\u001b[39;00m is_integer(indexer):\n\u001b[1;32m   3806\u001b[0m     indexer \u001b[39m=\u001b[39m [indexer]\n",
      "File \u001b[0;32m~/.local/lib/python3.8/site-packages/pandas/core/indexes/base.py:3805\u001b[0m, in \u001b[0;36mIndex.get_loc\u001b[0;34m(self, key, method, tolerance)\u001b[0m\n\u001b[1;32m   3803\u001b[0m     \u001b[39mreturn\u001b[39;00m \u001b[39mself\u001b[39m\u001b[39m.\u001b[39m_engine\u001b[39m.\u001b[39mget_loc(casted_key)\n\u001b[1;32m   3804\u001b[0m \u001b[39mexcept\u001b[39;00m \u001b[39mKeyError\u001b[39;00m \u001b[39mas\u001b[39;00m err:\n\u001b[0;32m-> 3805\u001b[0m     \u001b[39mraise\u001b[39;00m \u001b[39mKeyError\u001b[39;00m(key) \u001b[39mfrom\u001b[39;00m \u001b[39merr\u001b[39;00m\n\u001b[1;32m   3806\u001b[0m \u001b[39mexcept\u001b[39;00m \u001b[39mTypeError\u001b[39;00m:\n\u001b[1;32m   3807\u001b[0m     \u001b[39m# If we have a listlike key, _check_indexing_error will raise\u001b[39;00m\n\u001b[1;32m   3808\u001b[0m     \u001b[39m#  InvalidIndexError. Otherwise we fall through and re-raise\u001b[39;00m\n\u001b[1;32m   3809\u001b[0m     \u001b[39m#  the TypeError.\u001b[39;00m\n\u001b[1;32m   3810\u001b[0m     \u001b[39mself\u001b[39m\u001b[39m.\u001b[39m_check_indexing_error(key)\n",
      "\u001b[0;31mKeyError\u001b[0m: 'postal_code'"
     ]
    }
   ],
   "source": [
    "BASE_DIR = Path().parent\n",
    "cine_dir = Path('files/GHUCine_select.csv')\n",
    "cp_dir = Path('assets/codigos_postales.csv')\n",
    "\n",
    "\n",
    "m_path = BASE_DIR/cine_dir\n",
    "\n",
    "df = pd.read_csv(m_path, encoding=\"utf-8\")\n",
    "cp_df = pd.read_csv(BASE_DIR / cp_dir)\n",
    "\n",
    "\n",
    "\n",
    "list_columns = ['university','career','first_name','last_name','location']\n",
    "\n",
    "# Strings.\n",
    "for column in list_columns:\n",
    "    df[column] = df[column].astype('string').str.replace('-', ' ').str.lower()\n",
    "\n",
    "# Fechas. 31-12-2020\n",
    "df['inscription_date'] = pd.to_datetime(df['inscription_date'], dayfirst=True)\n",
    "\n",
    "# Gender (male - female)\n",
    "df['gender'] = df['gender'].astype('string').str.lower().replace({'f':'female', 'm':'male'})\n",
    "\n",
    "# Codigos postales\n",
    "cp_df.localidad = cp_df.localidad.astype('string').str.lower()\n",
    "\n",
    "print(cp_df[cp_df.localidad == \"nordelta\"]['codigo_postal'])\n",
    "\n",
    "df['postal_code'].map(cp_df[cp_df.localidad == df['location']]['codigo_postal'])\n",
    "\n",
    "\n",
    "\n"
   ]
  }
 ],
 "metadata": {
  "kernelspec": {
   "display_name": "Python 3.8.10 64-bit",
   "language": "python",
   "name": "python3"
  },
  "language_info": {
   "codemirror_mode": {
    "name": "ipython",
    "version": 3
   },
   "file_extension": ".py",
   "mimetype": "text/x-python",
   "name": "python",
   "nbconvert_exporter": "python",
   "pygments_lexer": "ipython3",
   "version": "3.8.10"
  },
  "orig_nbformat": 4,
  "vscode": {
   "interpreter": {
    "hash": "916dbcbb3f70747c44a77c7bcd40155683ae19c65e1c03b4aa3499c5328201f1"
   }
  }
 },
 "nbformat": 4,
 "nbformat_minor": 2
}
