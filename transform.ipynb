{
 "cells": [
  {
   "cell_type": "code",
   "execution_count": 30,
   "metadata": {},
   "outputs": [],
   "source": [
    "from pathlib import Path\n",
    "import pandas as pd"
   ]
  },
  {
   "cell_type": "code",
   "execution_count": 31,
   "metadata": {},
   "outputs": [
    {
     "name": "stdout",
     "output_type": "stream",
     "text": [
      "             university                                      career  \\\n",
      "0  UNIVERSIDAD-DEL-CINE                       CIENCIAS-VETERINARIAS   \n",
      "1  UNIVERSIDAD-DEL-CINE   LICENCIATURA-EN-PRODUCCIÓN-DE-BIOIMAGENES   \n",
      "2  UNIVERSIDAD-DEL-CINE  LICENCIATURA-EN-CIENCIAS-DE-LA-COMPUTACIÓN   \n",
      "3  UNIVERSIDAD-DEL-CINE                   INGENIERÍA-EN-INFORMÁTICA   \n",
      "4  UNIVERSIDAD-DEL-CINE                                ARQUITECTURA   \n",
      "\n",
      "  inscription_date  first_name        last_name  birth_date gender  age  \\\n",
      "0       31-12-2020         NaN    STACEY-MEDINA  07-04-1959      F  NaN   \n",
      "1       29-10-2020         NaN  KATHRYN-NICHOLS  22-12-2008      F  NaN   \n",
      "2       01-01-2021         NaN        ERIC-KANE  24-02-2009      M  NaN   \n",
      "3       17-09-2020         NaN    JERRY-BEASLEY  30-05-1990      M  NaN   \n",
      "4       29-10-2020         NaN  DARRELL-CHAPMAN  12-07-1960      M  NaN   \n",
      "\n",
      "   postal_code       location                          email  \n",
      "0          NaN  ALDEA-BELEIRO            SARAHPHAM@YAHOO.COM  \n",
      "1          NaN  COLONIA-BARGA  CHRISTOPHERANDERSON@YAHOO.COM  \n",
      "2          NaN      SAN-JUSTO              JAMES27@YAHOO.COM  \n",
      "3          NaN       BOQUERON         BROWNMICHAEL@GMAIL.COM  \n",
      "4          NaN      AGUA-RICA            CTHOMAS@HOTMAIL.COM  \n"
     ]
    }
   ],
   "source": [
    "UCine_path = Path('files/GHUCine_select.csv')\n",
    "\n",
    "df_univ = pd.read_csv(UCine_path, encoding=\"utf-8\")\n",
    "\n",
    "print(df_univ.head())"
   ]
  },
  {
   "cell_type": "code",
   "execution_count": 54,
   "metadata": {},
   "outputs": [
    {
     "ename": "TypeError",
     "evalue": "Level not an integer or a valid string: <function debug at 0x7f47c33b5d30>",
     "output_type": "error",
     "traceback": [
      "\u001b[0;31m---------------------------------------------------------------------------\u001b[0m",
      "\u001b[0;31mTypeError\u001b[0m                                 Traceback (most recent call last)",
      "Cell \u001b[0;32mIn [54], line 6\u001b[0m\n\u001b[1;32m      4\u001b[0m logging\u001b[39m.\u001b[39mbasicConfig(filename\u001b[39m=\u001b[39m\u001b[39m\"\u001b[39m\u001b[39mdags.log\u001b[39m\u001b[39m\"\u001b[39m, filemode\u001b[39m=\u001b[39m\u001b[39m'\u001b[39m\u001b[39mw\u001b[39m\u001b[39m'\u001b[39m, \u001b[39mformat\u001b[39m\u001b[39m=\u001b[39mFORMAT)\n\u001b[1;32m      5\u001b[0m logger \u001b[39m=\u001b[39m logging\u001b[39m.\u001b[39mgetLogger()\n\u001b[0;32m----> 6\u001b[0m logger\u001b[39m.\u001b[39;49msetLevel(logging\u001b[39m.\u001b[39;49mdebug)\n\u001b[1;32m      8\u001b[0m logger\u001b[39m.\u001b[39mdebug(\u001b[39m\"\u001b[39m\u001b[39mtest\u001b[39m\u001b[39m\"\u001b[39m)\n",
      "File \u001b[0;32m/usr/lib/python3.8/logging/__init__.py:1421\u001b[0m, in \u001b[0;36mLogger.setLevel\u001b[0;34m(self, level)\u001b[0m\n\u001b[1;32m   1417\u001b[0m \u001b[39mdef\u001b[39;00m \u001b[39msetLevel\u001b[39m(\u001b[39mself\u001b[39m, level):\n\u001b[1;32m   1418\u001b[0m     \u001b[39m\"\"\"\u001b[39;00m\n\u001b[1;32m   1419\u001b[0m \u001b[39m    Set the logging level of this logger.  level must be an int or a str.\u001b[39;00m\n\u001b[1;32m   1420\u001b[0m \u001b[39m    \"\"\"\u001b[39;00m\n\u001b[0;32m-> 1421\u001b[0m     \u001b[39mself\u001b[39m\u001b[39m.\u001b[39mlevel \u001b[39m=\u001b[39m _checkLevel(level)\n\u001b[1;32m   1422\u001b[0m     \u001b[39mself\u001b[39m\u001b[39m.\u001b[39mmanager\u001b[39m.\u001b[39m_clear_cache()\n",
      "File \u001b[0;32m/usr/lib/python3.8/logging/__init__.py:201\u001b[0m, in \u001b[0;36m_checkLevel\u001b[0;34m(level)\u001b[0m\n\u001b[1;32m    199\u001b[0m     rv \u001b[39m=\u001b[39m _nameToLevel[level]\n\u001b[1;32m    200\u001b[0m \u001b[39melse\u001b[39;00m:\n\u001b[0;32m--> 201\u001b[0m     \u001b[39mraise\u001b[39;00m \u001b[39mTypeError\u001b[39;00m(\u001b[39m\"\u001b[39m\u001b[39mLevel not an integer or a valid string: \u001b[39m\u001b[39m%r\u001b[39;00m\u001b[39m\"\u001b[39m \u001b[39m%\u001b[39m level)\n\u001b[1;32m    202\u001b[0m \u001b[39mreturn\u001b[39;00m rv\n",
      "\u001b[0;31mTypeError\u001b[0m: Level not an integer or a valid string: <function debug at 0x7f47c33b5d30>"
     ]
    }
   ],
   "source": [
    "import logging\n",
    "\n",
    "FORMAT = \"%(asctime)s - %(message)s\"\n",
    "logging.basicConfig(filename=\"dags.log\", filemode='w', format=FORMAT)\n",
    "logger = logging.getLogger()\n",
    "\n",
    "logger.debug(\"test\")\n"
   ]
  },
  {
   "cell_type": "code",
   "execution_count": 46,
   "metadata": {},
   "outputs": [],
   "source": []
  }
 ],
 "metadata": {
  "kernelspec": {
   "display_name": "Python 3.8.10 64-bit",
   "language": "python",
   "name": "python3"
  },
  "language_info": {
   "codemirror_mode": {
    "name": "ipython",
    "version": 3
   },
   "file_extension": ".py",
   "mimetype": "text/x-python",
   "name": "python",
   "nbconvert_exporter": "python",
   "pygments_lexer": "ipython3",
   "version": "3.8.10"
  },
  "orig_nbformat": 4,
  "vscode": {
   "interpreter": {
    "hash": "916dbcbb3f70747c44a77c7bcd40155683ae19c65e1c03b4aa3499c5328201f1"
   }
  }
 },
 "nbformat": 4,
 "nbformat_minor": 2
}
